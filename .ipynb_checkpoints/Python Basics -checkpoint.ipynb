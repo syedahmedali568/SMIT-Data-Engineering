{
 "cells": [
  {
   "cell_type": "markdown",
   "id": "e5383cc6-f8c3-4855-9634-981cd9ff1e86",
   "metadata": {},
   "source": [
    "## Shortcuts of Notebook\n",
    "- ESC + M (CONVERT SELECTED CELL INTO MARKDOWN)\n",
    "- ESC + A (CREATE ABOVE CELL)\n",
    "- ESC + B (CREATE BELOW CELL)\n",
    "- ESC + DD (TO DELETE ANY SELECTED CELL)\n",
    "- ESC + Y (CONVERT ANY CELL INTO CODE)\n",
    "- CTRL + ENTER (EXECUTE BUT STAY IN THAT CELL)\n",
    "- CTRL + SHIFT + H (SHOW ALL THE COMMANDS OF NOTEBOOK)\n",
    "- ESC + 1,2,3 (TO MAKE CELL HEADINGS)"
   ]
  },
  {
   "cell_type": "code",
   "execution_count": 8,
   "id": "5ccbf0ff-ad85-457d-83c9-fb4176a59335",
   "metadata": {},
   "outputs": [
    {
     "name": "stdin",
     "output_type": "stream",
     "text": [
      "Enter your age 20\n"
     ]
    }
   ],
   "source": [
    "age = int(input(\"Enter your age\"))"
   ]
  },
  {
   "cell_type": "code",
   "execution_count": 10,
   "id": "0fa1c2ac-76ce-40f9-87a8-fbd9606b6451",
   "metadata": {},
   "outputs": [
    {
     "name": "stdout",
     "output_type": "stream",
     "text": [
      "you are eligible for vote\n"
     ]
    }
   ],
   "source": [
    "if age >= 18:\n",
    "    print(\"you are eligible for vote\")\n",
    "else:\n",
    "    print(\"you are not eligible\")"
   ]
  },
  {
   "cell_type": "code",
   "execution_count": 14,
   "id": "ee07a908-f9dd-4b96-8ca8-c7bd6b7ef2e0",
   "metadata": {},
   "outputs": [
    {
     "name": "stdin",
     "output_type": "stream",
     "text": [
      "Enter the service years:  6\n",
      "Enter salary:  15000\n"
     ]
    },
    {
     "name": "stdout",
     "output_type": "stream",
     "text": [
      "Your bonus will be  7500.0\n"
     ]
    }
   ],
   "source": [
    "years = int(input(\"Enter the service years: \"))\n",
    "if years > 5:\n",
    "    salary = int(input(\"Enter salary: \"))\n",
    "    print(\"Your bonus will be \", 0.5 * salary)\n",
    "else:\n",
    "    print(\"No increment\")\n"
   ]
  },
  {
   "cell_type": "code",
   "execution_count": 16,
   "id": "894a6105-e138-46e8-833a-b3283fe408e2",
   "metadata": {},
   "outputs": [
    {
     "name": "stdin",
     "output_type": "stream",
     "text": [
      "Enter num 10\n"
     ]
    }
   ],
   "source": [
    "num = int(input(\"Enter num\"))"
   ]
  },
  {
   "cell_type": "code",
   "execution_count": 22,
   "id": "fe0094ba-6cbc-44a5-952c-2e2d1421b1b8",
   "metadata": {},
   "outputs": [
    {
     "name": "stdout",
     "output_type": "stream",
     "text": [
      "hello\n"
     ]
    }
   ],
   "source": [
    "if num % 5 == 0:\n",
    "    print(\"hello\")\n",
    "else:\n",
    "    print(\"bye\")"
   ]
  },
  {
   "cell_type": "markdown",
   "id": "0dd55977-0b1b-47f9-9231-16f6ab891a32",
   "metadata": {},
   "source": [
    "### Tuple\n",
    "\n",
    "- start with ()\n",
    "- immutable,can't change\n",
    "- Ordered elements"
   ]
  },
  {
   "cell_type": "code",
   "execution_count": 4,
   "id": "3dbd499b-7fc1-46fc-aba7-c477ab9022f3",
   "metadata": {},
   "outputs": [
    {
     "data": {
      "text/plain": [
       "(1, 2, 3, 4)"
      ]
     },
     "execution_count": 4,
     "metadata": {},
     "output_type": "execute_result"
    }
   ],
   "source": [
    "first_tuple = (1,2,3,4)\n",
    "first_tuple\n"
   ]
  },
  {
   "cell_type": "code",
   "execution_count": 6,
   "id": "3dc76b58-1e0b-4423-a0f2-ec912e32ce30",
   "metadata": {},
   "outputs": [
    {
     "data": {
      "text/plain": [
       "(1, 'tuple', 0.32)"
      ]
     },
     "execution_count": 6,
     "metadata": {},
     "output_type": "execute_result"
    }
   ],
   "source": [
    "multiple_dataType = (1,\"tuple\",0.32)\n",
    "multiple_dataType"
   ]
  },
  {
   "cell_type": "code",
   "execution_count": 8,
   "id": "6e528629-2bd4-460f-95b8-e9b8e7a20def",
   "metadata": {},
   "outputs": [
    {
     "name": "stdout",
     "output_type": "stream",
     "text": [
      "<class 'tuple'>\n"
     ]
    }
   ],
   "source": [
    "print(type(multiple_dataType))"
   ]
  },
  {
   "cell_type": "code",
   "execution_count": 16,
   "id": "93821ed5-1f5f-4e44-9c42-47071cec7671",
   "metadata": {},
   "outputs": [
    {
     "name": "stdout",
     "output_type": "stream",
     "text": [
      "<class 'int'>\n"
     ]
    }
   ],
   "source": [
    "single_tuple = (1)\n",
    "print(type(single_tuple))"
   ]
  },
  {
   "cell_type": "code",
   "execution_count": 18,
   "id": "2e1afb36-9b08-4a7c-a209-1f7ef314436f",
   "metadata": {},
   "outputs": [
    {
     "name": "stdout",
     "output_type": "stream",
     "text": [
      "<class 'tuple'>\n"
     ]
    }
   ],
   "source": [
    "single_tuple = (1,)\n",
    "print(type(single_tuple))"
   ]
  },
  {
   "cell_type": "code",
   "execution_count": 20,
   "id": "750207ac-0947-4585-9eae-633cfe286bb9",
   "metadata": {},
   "outputs": [],
   "source": [
    "new_tuple = (\"Qasim\",\"Ali\",\"Uzair\",\"Hamza\",\"Faisal\")"
   ]
  },
  {
   "cell_type": "code",
   "execution_count": 22,
   "id": "06123adc-9624-4cf5-acc3-21c3da7a31a8",
   "metadata": {},
   "outputs": [
    {
     "data": {
      "text/plain": [
       "'Uzair'"
      ]
     },
     "execution_count": 22,
     "metadata": {},
     "output_type": "execute_result"
    }
   ],
   "source": [
    "new_tuple[2]"
   ]
  },
  {
   "cell_type": "code",
   "execution_count": 28,
   "id": "acb0af80-92aa-478b-af47-cb4477193818",
   "metadata": {},
   "outputs": [
    {
     "data": {
      "text/plain": [
       "('Qasim', 'Ali', 'Uzair', 'Hamza', 'Faisal')"
      ]
     },
     "execution_count": 28,
     "metadata": {},
     "output_type": "execute_result"
    }
   ],
   "source": [
    "new_tuple[:5]"
   ]
  },
  {
   "cell_type": "code",
   "execution_count": 30,
   "id": "7bb4ad62-82b8-4c9f-b7fd-f7422d917947",
   "metadata": {},
   "outputs": [],
   "source": [
    "import sys"
   ]
  },
  {
   "cell_type": "code",
   "execution_count": 38,
   "id": "98e056d9-bdf2-431e-b734-04d6fd149ab6",
   "metadata": {},
   "outputs": [
    {
     "name": "stdout",
     "output_type": "stream",
     "text": [
      "80\n",
      "104\n"
     ]
    }
   ],
   "source": [
    "# tuple is more efficient in terms of size\n",
    "\n",
    "new_tuple = (\"Qasim\",\"Ali\",\"Uzair\",\"Hamza\",\"Faisal\")\n",
    "new_list =  [\"Qasim\",\"Ali\",\"Uzair\",\"Hamza\",\"Faisal\"]\n",
    "print(sys.getsizeof(new_tuple))\n",
    "print(sys.getsizeof(new_list))"
   ]
  },
  {
   "cell_type": "code",
   "execution_count": 40,
   "id": "26e4d3b5-be4e-453f-ba4c-7d6e9c689b54",
   "metadata": {},
   "outputs": [
    {
     "data": {
      "text/plain": [
       "1"
      ]
     },
     "execution_count": 40,
     "metadata": {},
     "output_type": "execute_result"
    }
   ],
   "source": [
    "new_tuple.count(\"Qasim\")"
   ]
  },
  {
   "cell_type": "code",
   "execution_count": 42,
   "id": "3fd028d0-90c3-45ca-a9fd-4a08b50e02d1",
   "metadata": {},
   "outputs": [
    {
     "data": {
      "text/plain": [
       "4"
      ]
     },
     "execution_count": 42,
     "metadata": {},
     "output_type": "execute_result"
    }
   ],
   "source": [
    "new_tuple.index(\"Faisal\")"
   ]
  },
  {
   "cell_type": "code",
   "execution_count": 44,
   "id": "0c9f0501-8842-4acb-8685-fd177e514a9e",
   "metadata": {},
   "outputs": [],
   "source": [
    "for variables in iterator:\n",
    "    code block"
   ]
  },
  {
   "cell_type": "code",
   "execution_count": 48,
   "id": "9798dd15-3d88-4eef-959d-f9fe7d8866d6",
   "metadata": {},
   "outputs": [
    {
     "name": "stdout",
     "output_type": "stream",
     "text": [
      "Qasim\n"
     ]
    }
   ],
   "source": [
    "new_list =  [\"Qasim\",\"Ali\",\"Uzair\",\"Hamza\",\"Faisal\"]\n",
    "for value in new_list:\n",
    "    print(value)\n",
    "    break"
   ]
  },
  {
   "cell_type": "code",
   "execution_count": 60,
   "id": "9450eede-75f1-4448-8140-c33bb65c1434",
   "metadata": {},
   "outputs": [
    {
     "name": "stdout",
     "output_type": "stream",
     "text": [
      "0 Qasim\n",
      "sleeping\n",
      "1 Ali\n",
      "sleeping\n",
      "2 Uzair\n",
      "sleeping\n",
      "3 Hamza\n",
      "sleeping\n",
      "4 Faisal\n",
      "sleeping\n"
     ]
    }
   ],
   "source": [
    "new_list =  [\"Qasim\",\"Ali\",\"Uzair\",\"Hamza\",\"Faisal\"]\n",
    "for value in range(len(new_list)):\n",
    "    print(value,new_list[value])\n",
    "    time.sleep(2)\n",
    "    print(\"sleeping\")"
   ]
  },
  {
   "cell_type": "code",
   "execution_count": 58,
   "id": "5b92df3a-f19e-49f0-bb6c-d1b1e5907a11",
   "metadata": {},
   "outputs": [],
   "source": [
    "import time"
   ]
  },
  {
   "cell_type": "code",
   "execution_count": 62,
   "id": "551f0add-c984-40bd-93f4-e62780e360e1",
   "metadata": {},
   "outputs": [
    {
     "name": "stdout",
     "output_type": "stream",
     "text": [
      "S\n",
      "M\n",
      "I\n",
      "T\n",
      "C\n",
      "D\n",
      "E\n",
      "C\n",
      "L\n",
      "A\n",
      "S\n",
      "S\n"
     ]
    }
   ],
   "source": [
    "var = \"SMITCDECLASS\"\n",
    "for i in var:\n",
    "    print(i)"
   ]
  },
  {
   "cell_type": "code",
   "execution_count": 1,
   "id": "e7776101-2e79-45a8-ba32-815dabfeba05",
   "metadata": {},
   "outputs": [
    {
     "name": "stdin",
     "output_type": "stream",
     "text": [
      "Enter 1 Name:  ali\n",
      "Enter 2 Name:  ahmed\n",
      "Enter 3 Name:  hassan\n",
      "Enter 4 Name:  abd\n",
      "Enter 5 Name:  ahm\n"
     ]
    },
    {
     "name": "stdout",
     "output_type": "stream",
     "text": [
      "['ali', 'ahmed', 'hassan', 'abd', 'ahm']\n"
     ]
    }
   ],
   "source": [
    "names_list = []\n",
    "\n",
    "for i in range(5):\n",
    "    value = input(f\"Enter {i+1} Name: \")\n",
    "    names_list.append(value)\n",
    "\n",
    "print(names_list)"
   ]
  },
  {
   "cell_type": "code",
   "execution_count": 15,
   "id": "04901f08-5450-42e5-8b5d-4c8652131584",
   "metadata": {},
   "outputs": [
    {
     "name": "stdout",
     "output_type": "stream",
     "text": [
      "1\n",
      "2\n",
      "3\n",
      "4\n",
      "5\n",
      "6\n",
      "7\n",
      "8\n",
      "11\n",
      "12\n",
      "13\n",
      "14\n",
      "15\n",
      "mon\n",
      "tues\n",
      "wed\n",
      "thurs\n",
      "fri\n",
      "sat\n",
      "sun\n"
     ]
    }
   ],
   "source": [
    "# nested_list = [[1,2,3,4,5,6,7,8],[11,12,13,14,15],[\"mon\",\"tues\",\"wed\",\"thurs\",\"fri\",\"sat\",\"sun\"]]\n",
    "\n",
    "nested_list = [[1, 2, 3, 4, 5, 6, 7, 8], [11, 12, 13, 14, 15], [\"mon\", \"tues\", \"wed\", \"thurs\", \"fri\", \"sat\", \"sun\"]]\n",
    "\n",
    "for i in range(len(nested_list)):  # Iterate over indices of nested_list\n",
    "    for j in nested_list[i]:  # Iterate over elements of the sublist\n",
    "        print(j)  # Print each element\n"
   ]
  },
  {
   "cell_type": "code",
   "execution_count": 33,
   "id": "e5fa84d6-5cd7-4fe9-881e-b2a8a4dddadd",
   "metadata": {},
   "outputs": [
    {
     "name": "stdout",
     "output_type": "stream",
     "text": [
      "*\n",
      "**\n",
      "***\n",
      "****\n",
      "*****\n"
     ]
    }
   ],
   "source": [
    "rows = 5\n",
    "for i in range(1, rows+1): \n",
    "    print('*' * i)"
   ]
  },
  {
   "cell_type": "code",
   "execution_count": 37,
   "id": "37c00565-f215-4196-85b8-9b5deda69a80",
   "metadata": {},
   "outputs": [
    {
     "name": "stdout",
     "output_type": "stream",
     "text": [
      "******\n",
      "******\n",
      "******\n",
      "******\n"
     ]
    }
   ],
   "source": [
    "rows = 4  \n",
    "columns = 6  \n",
    "\n",
    "for i in range(rows):  \n",
    "    print('*' * columns)"
   ]
  },
  {
   "cell_type": "code",
   "execution_count": null,
   "id": "b0f02def-e95b-44f2-9ea8-51ebadab06ba",
   "metadata": {},
   "outputs": [],
   "source": []
  }
 ],
 "metadata": {
  "kernelspec": {
   "display_name": "Python 3 (ipykernel)",
   "language": "python",
   "name": "python3"
  },
  "language_info": {
   "codemirror_mode": {
    "name": "ipython",
    "version": 3
   },
   "file_extension": ".py",
   "mimetype": "text/x-python",
   "name": "python",
   "nbconvert_exporter": "python",
   "pygments_lexer": "ipython3",
   "version": "3.11.7"
  }
 },
 "nbformat": 4,
 "nbformat_minor": 5
}
