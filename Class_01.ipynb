{
 "cells": [
  {
   "cell_type": "markdown",
   "id": "e5383cc6-f8c3-4855-9634-981cd9ff1e86",
   "metadata": {},
   "source": [
    "## Shortcuts of Notebook\n",
    "- ESC + M (CONVERT SELECTED CELL INTO MARKDOWN)\n",
    "- ESC + A (CREATE ABOVE CELL)\n",
    "- ESC + B (CREATE BELOW CELL)\n",
    "- ESC + DD (TO DELETE ANY SELECTED CELL)\n",
    "- ESC + Y (CONVERT ANY CELL INTO CODE)\n",
    "- CTRL + ENTER (EXECUTE BUT STAY IN THAT CELL)\n",
    "- CTRL + SHIFT + H (SHOW ALL THE COMMANDS OF NOTEBOOK)\n",
    "- ESC + 1,2,3 (TO MAKE CELL HEADINGS)"
   ]
  },
  {
   "cell_type": "code",
   "execution_count": 8,
   "id": "5ccbf0ff-ad85-457d-83c9-fb4176a59335",
   "metadata": {},
   "outputs": [
    {
     "name": "stdin",
     "output_type": "stream",
     "text": [
      "Enter your age 20\n"
     ]
    }
   ],
   "source": [
    "age = int(input(\"Enter your age\"))"
   ]
  },
  {
   "cell_type": "code",
   "execution_count": 10,
   "id": "0fa1c2ac-76ce-40f9-87a8-fbd9606b6451",
   "metadata": {},
   "outputs": [
    {
     "name": "stdout",
     "output_type": "stream",
     "text": [
      "you are eligible for vote\n"
     ]
    }
   ],
   "source": [
    "if age >= 18:\n",
    "    print(\"you are eligible for vote\")\n",
    "else:\n",
    "    print(\"you are not eligible\")"
   ]
  },
  {
   "cell_type": "code",
   "execution_count": 14,
   "id": "ee07a908-f9dd-4b96-8ca8-c7bd6b7ef2e0",
   "metadata": {},
   "outputs": [
    {
     "name": "stdin",
     "output_type": "stream",
     "text": [
      "Enter the service years:  6\n",
      "Enter salary:  15000\n"
     ]
    },
    {
     "name": "stdout",
     "output_type": "stream",
     "text": [
      "Your bonus will be  7500.0\n"
     ]
    }
   ],
   "source": [
    "years = int(input(\"Enter the service years: \"))\n",
    "if years > 5:\n",
    "    salary = int(input(\"Enter salary: \"))\n",
    "    print(\"Your bonus will be \", 0.5 * salary)\n",
    "else:\n",
    "    print(\"No increment\")\n"
   ]
  },
  {
   "cell_type": "code",
   "execution_count": 16,
   "id": "894a6105-e138-46e8-833a-b3283fe408e2",
   "metadata": {},
   "outputs": [
    {
     "name": "stdin",
     "output_type": "stream",
     "text": [
      "Enter num 10\n"
     ]
    }
   ],
   "source": [
    "num = int(input(\"Enter num\"))"
   ]
  },
  {
   "cell_type": "code",
   "execution_count": 22,
   "id": "fe0094ba-6cbc-44a5-952c-2e2d1421b1b8",
   "metadata": {},
   "outputs": [
    {
     "name": "stdout",
     "output_type": "stream",
     "text": [
      "hello\n"
     ]
    }
   ],
   "source": [
    "if num % 5 == 0:\n",
    "    print(\"hello\")\n",
    "else:\n",
    "    print(\"bye\")"
   ]
  },
  {
   "cell_type": "code",
   "execution_count": null,
   "id": "5bc6bb89-9abe-45b9-94dd-80a5808a1dc9",
   "metadata": {},
   "outputs": [],
   "source": []
  }
 ],
 "metadata": {
  "kernelspec": {
   "display_name": "Python 3 (ipykernel)",
   "language": "python",
   "name": "python3"
  },
  "language_info": {
   "codemirror_mode": {
    "name": "ipython",
    "version": 3
   },
   "file_extension": ".py",
   "mimetype": "text/x-python",
   "name": "python",
   "nbconvert_exporter": "python",
   "pygments_lexer": "ipython3",
   "version": "3.11.7"
  }
 },
 "nbformat": 4,
 "nbformat_minor": 5
}
