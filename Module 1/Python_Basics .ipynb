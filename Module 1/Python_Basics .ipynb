{
 "cells": [
  {
   "cell_type": "markdown",
   "id": "e5383cc6-f8c3-4855-9634-981cd9ff1e86",
   "metadata": {},
   "source": [
    "## Shortcuts of Notebook\n",
    "- ESC + M (CONVERT SELECTED CELL INTO MARKDOWN)\n",
    "- ESC + A (CREATE ABOVE CELL)\n",
    "- ESC + B (CREATE BELOW CELL)\n",
    "- ESC + DD (TO DELETE ANY SELECTED CELL)\n",
    "- ESC + Y (CONVERT ANY CELL INTO CODE)\n",
    "- CTRL + ENTER (EXECUTE BUT STAY IN THAT CELL)\n",
    "- CTRL + SHIFT + H (SHOW ALL THE COMMANDS OF NOTEBOOK)\n",
    "- ESC + 1,2,3 (TO MAKE CELL HEADINGS)"
   ]
  },
  {
   "cell_type": "code",
   "execution_count": 8,
   "id": "5ccbf0ff-ad85-457d-83c9-fb4176a59335",
   "metadata": {},
   "outputs": [
    {
     "name": "stdin",
     "output_type": "stream",
     "text": [
      "Enter your age 20\n"
     ]
    }
   ],
   "source": [
    "age = int(input(\"Enter your age\"))"
   ]
  },
  {
   "cell_type": "code",
   "execution_count": 10,
   "id": "0fa1c2ac-76ce-40f9-87a8-fbd9606b6451",
   "metadata": {},
   "outputs": [
    {
     "name": "stdout",
     "output_type": "stream",
     "text": [
      "you are eligible for vote\n"
     ]
    }
   ],
   "source": [
    "if age >= 18:\n",
    "    print(\"you are eligible for vote\")\n",
    "else:\n",
    "    print(\"you are not eligible\")"
   ]
  },
  {
   "cell_type": "code",
   "execution_count": 14,
   "id": "ee07a908-f9dd-4b96-8ca8-c7bd6b7ef2e0",
   "metadata": {},
   "outputs": [
    {
     "name": "stdin",
     "output_type": "stream",
     "text": [
      "Enter the service years:  6\n",
      "Enter salary:  15000\n"
     ]
    },
    {
     "name": "stdout",
     "output_type": "stream",
     "text": [
      "Your bonus will be  7500.0\n"
     ]
    }
   ],
   "source": [
    "years = int(input(\"Enter the service years: \"))\n",
    "if years > 5:\n",
    "    salary = int(input(\"Enter salary: \"))\n",
    "    print(\"Your bonus will be \", 0.5 * salary)\n",
    "else:\n",
    "    print(\"No increment\")\n"
   ]
  },
  {
   "cell_type": "code",
   "execution_count": 16,
   "id": "894a6105-e138-46e8-833a-b3283fe408e2",
   "metadata": {},
   "outputs": [
    {
     "name": "stdin",
     "output_type": "stream",
     "text": [
      "Enter num 10\n"
     ]
    }
   ],
   "source": [
    "num = int(input(\"Enter num\"))"
   ]
  },
  {
   "cell_type": "code",
   "execution_count": 22,
   "id": "fe0094ba-6cbc-44a5-952c-2e2d1421b1b8",
   "metadata": {},
   "outputs": [
    {
     "name": "stdout",
     "output_type": "stream",
     "text": [
      "hello\n"
     ]
    }
   ],
   "source": [
    "if num % 5 == 0:\n",
    "    print(\"hello\")\n",
    "else:\n",
    "    print(\"bye\")"
   ]
  },
  {
   "cell_type": "markdown",
   "id": "0dd55977-0b1b-47f9-9231-16f6ab891a32",
   "metadata": {},
   "source": [
    "### Tuple\n",
    "\n",
    "- start with ()\n",
    "- immutable,can't change\n",
    "- Ordered elements"
   ]
  },
  {
   "cell_type": "code",
   "execution_count": 4,
   "id": "3dbd499b-7fc1-46fc-aba7-c477ab9022f3",
   "metadata": {},
   "outputs": [
    {
     "data": {
      "text/plain": [
       "(1, 2, 3, 4)"
      ]
     },
     "execution_count": 4,
     "metadata": {},
     "output_type": "execute_result"
    }
   ],
   "source": [
    "first_tuple = (1,2,3,4)\n",
    "first_tuple\n"
   ]
  },
  {
   "cell_type": "code",
   "execution_count": 6,
   "id": "3dc76b58-1e0b-4423-a0f2-ec912e32ce30",
   "metadata": {},
   "outputs": [
    {
     "data": {
      "text/plain": [
       "(1, 'tuple', 0.32)"
      ]
     },
     "execution_count": 6,
     "metadata": {},
     "output_type": "execute_result"
    }
   ],
   "source": [
    "multiple_dataType = (1,\"tuple\",0.32)\n",
    "multiple_dataType"
   ]
  },
  {
   "cell_type": "code",
   "execution_count": 8,
   "id": "6e528629-2bd4-460f-95b8-e9b8e7a20def",
   "metadata": {},
   "outputs": [
    {
     "name": "stdout",
     "output_type": "stream",
     "text": [
      "<class 'tuple'>\n"
     ]
    }
   ],
   "source": [
    "print(type(multiple_dataType))"
   ]
  },
  {
   "cell_type": "code",
   "execution_count": 16,
   "id": "93821ed5-1f5f-4e44-9c42-47071cec7671",
   "metadata": {},
   "outputs": [
    {
     "name": "stdout",
     "output_type": "stream",
     "text": [
      "<class 'int'>\n"
     ]
    }
   ],
   "source": [
    "single_tuple = (1)\n",
    "print(type(single_tuple))"
   ]
  },
  {
   "cell_type": "code",
   "execution_count": 18,
   "id": "2e1afb36-9b08-4a7c-a209-1f7ef314436f",
   "metadata": {},
   "outputs": [
    {
     "name": "stdout",
     "output_type": "stream",
     "text": [
      "<class 'tuple'>\n"
     ]
    }
   ],
   "source": [
    "single_tuple = (1,)\n",
    "print(type(single_tuple))"
   ]
  },
  {
   "cell_type": "code",
   "execution_count": 20,
   "id": "750207ac-0947-4585-9eae-633cfe286bb9",
   "metadata": {},
   "outputs": [],
   "source": [
    "new_tuple = (\"Qasim\",\"Ali\",\"Uzair\",\"Hamza\",\"Faisal\")"
   ]
  },
  {
   "cell_type": "code",
   "execution_count": 22,
   "id": "06123adc-9624-4cf5-acc3-21c3da7a31a8",
   "metadata": {},
   "outputs": [
    {
     "data": {
      "text/plain": [
       "'Uzair'"
      ]
     },
     "execution_count": 22,
     "metadata": {},
     "output_type": "execute_result"
    }
   ],
   "source": [
    "new_tuple[2]"
   ]
  },
  {
   "cell_type": "code",
   "execution_count": 28,
   "id": "acb0af80-92aa-478b-af47-cb4477193818",
   "metadata": {},
   "outputs": [
    {
     "data": {
      "text/plain": [
       "('Qasim', 'Ali', 'Uzair', 'Hamza', 'Faisal')"
      ]
     },
     "execution_count": 28,
     "metadata": {},
     "output_type": "execute_result"
    }
   ],
   "source": [
    "new_tuple[:5]"
   ]
  },
  {
   "cell_type": "code",
   "execution_count": 30,
   "id": "7bb4ad62-82b8-4c9f-b7fd-f7422d917947",
   "metadata": {},
   "outputs": [],
   "source": [
    "import sys"
   ]
  },
  {
   "cell_type": "code",
   "execution_count": 38,
   "id": "98e056d9-bdf2-431e-b734-04d6fd149ab6",
   "metadata": {},
   "outputs": [
    {
     "name": "stdout",
     "output_type": "stream",
     "text": [
      "80\n",
      "104\n"
     ]
    }
   ],
   "source": [
    "# tuple is more efficient in terms of size\n",
    "\n",
    "new_tuple = (\"Qasim\",\"Ali\",\"Uzair\",\"Hamza\",\"Faisal\")\n",
    "new_list =  [\"Qasim\",\"Ali\",\"Uzair\",\"Hamza\",\"Faisal\"]\n",
    "print(sys.getsizeof(new_tuple))\n",
    "print(sys.getsizeof(new_list))"
   ]
  },
  {
   "cell_type": "code",
   "execution_count": 40,
   "id": "26e4d3b5-be4e-453f-ba4c-7d6e9c689b54",
   "metadata": {},
   "outputs": [
    {
     "data": {
      "text/plain": [
       "1"
      ]
     },
     "execution_count": 40,
     "metadata": {},
     "output_type": "execute_result"
    }
   ],
   "source": [
    "new_tuple.count(\"Qasim\")"
   ]
  },
  {
   "cell_type": "code",
   "execution_count": 42,
   "id": "3fd028d0-90c3-45ca-a9fd-4a08b50e02d1",
   "metadata": {},
   "outputs": [
    {
     "data": {
      "text/plain": [
       "4"
      ]
     },
     "execution_count": 42,
     "metadata": {},
     "output_type": "execute_result"
    }
   ],
   "source": [
    "new_tuple.index(\"Faisal\")"
   ]
  },
  {
   "cell_type": "code",
   "execution_count": 44,
   "id": "0c9f0501-8842-4acb-8685-fd177e514a9e",
   "metadata": {},
   "outputs": [],
   "source": [
    "for variables in iterator:\n",
    "    code block"
   ]
  },
  {
   "cell_type": "code",
   "execution_count": 48,
   "id": "9798dd15-3d88-4eef-959d-f9fe7d8866d6",
   "metadata": {},
   "outputs": [
    {
     "name": "stdout",
     "output_type": "stream",
     "text": [
      "Qasim\n"
     ]
    }
   ],
   "source": [
    "new_list =  [\"Qasim\",\"Ali\",\"Uzair\",\"Hamza\",\"Faisal\"]\n",
    "for value in new_list:\n",
    "    print(value)\n",
    "    break"
   ]
  },
  {
   "cell_type": "code",
   "execution_count": 60,
   "id": "9450eede-75f1-4448-8140-c33bb65c1434",
   "metadata": {},
   "outputs": [
    {
     "name": "stdout",
     "output_type": "stream",
     "text": [
      "0 Qasim\n",
      "sleeping\n",
      "1 Ali\n",
      "sleeping\n",
      "2 Uzair\n",
      "sleeping\n",
      "3 Hamza\n",
      "sleeping\n",
      "4 Faisal\n",
      "sleeping\n"
     ]
    }
   ],
   "source": [
    "new_list =  [\"Qasim\",\"Ali\",\"Uzair\",\"Hamza\",\"Faisal\"]\n",
    "for value in range(len(new_list)):\n",
    "    print(value,new_list[value])\n",
    "    time.sleep(2)\n",
    "    print(\"sleeping\")"
   ]
  },
  {
   "cell_type": "code",
   "execution_count": 58,
   "id": "5b92df3a-f19e-49f0-bb6c-d1b1e5907a11",
   "metadata": {},
   "outputs": [],
   "source": [
    "import time"
   ]
  },
  {
   "cell_type": "code",
   "execution_count": 62,
   "id": "551f0add-c984-40bd-93f4-e62780e360e1",
   "metadata": {},
   "outputs": [
    {
     "name": "stdout",
     "output_type": "stream",
     "text": [
      "S\n",
      "M\n",
      "I\n",
      "T\n",
      "C\n",
      "D\n",
      "E\n",
      "C\n",
      "L\n",
      "A\n",
      "S\n",
      "S\n"
     ]
    }
   ],
   "source": [
    "var = \"SMITCDECLASS\"\n",
    "for i in var:\n",
    "    print(i)"
   ]
  },
  {
   "cell_type": "code",
   "execution_count": 1,
   "id": "e7776101-2e79-45a8-ba32-815dabfeba05",
   "metadata": {},
   "outputs": [
    {
     "name": "stdin",
     "output_type": "stream",
     "text": [
      "Enter 1 Name:  ali\n",
      "Enter 2 Name:  ahmed\n",
      "Enter 3 Name:  hassan\n",
      "Enter 4 Name:  abd\n",
      "Enter 5 Name:  ahm\n"
     ]
    },
    {
     "name": "stdout",
     "output_type": "stream",
     "text": [
      "['ali', 'ahmed', 'hassan', 'abd', 'ahm']\n"
     ]
    }
   ],
   "source": [
    "names_list = []\n",
    "\n",
    "for i in range(5):\n",
    "    value = input(f\"Enter {i+1} Name: \")\n",
    "    names_list.append(value)\n",
    "\n",
    "print(names_list)"
   ]
  },
  {
   "cell_type": "code",
   "execution_count": 15,
   "id": "04901f08-5450-42e5-8b5d-4c8652131584",
   "metadata": {},
   "outputs": [
    {
     "name": "stdout",
     "output_type": "stream",
     "text": [
      "1\n",
      "2\n",
      "3\n",
      "4\n",
      "5\n",
      "6\n",
      "7\n",
      "8\n",
      "11\n",
      "12\n",
      "13\n",
      "14\n",
      "15\n",
      "mon\n",
      "tues\n",
      "wed\n",
      "thurs\n",
      "fri\n",
      "sat\n",
      "sun\n"
     ]
    }
   ],
   "source": [
    "# nested_list = [[1,2,3,4,5,6,7,8],[11,12,13,14,15],[\"mon\",\"tues\",\"wed\",\"thurs\",\"fri\",\"sat\",\"sun\"]]\n",
    "\n",
    "nested_list = [[1, 2, 3, 4, 5, 6, 7, 8], [11, 12, 13, 14, 15], [\"mon\", \"tues\", \"wed\", \"thurs\", \"fri\", \"sat\", \"sun\"]]\n",
    "\n",
    "for i in range(len(nested_list)):  # Iterate over indices of nested_list\n",
    "    for j in nested_list[i]:  # Iterate over elements of the sublist\n",
    "        print(j)  # Print each element\n"
   ]
  },
  {
   "cell_type": "code",
   "execution_count": 33,
   "id": "e5fa84d6-5cd7-4fe9-881e-b2a8a4dddadd",
   "metadata": {},
   "outputs": [
    {
     "name": "stdout",
     "output_type": "stream",
     "text": [
      "*\n",
      "**\n",
      "***\n",
      "****\n",
      "*****\n"
     ]
    }
   ],
   "source": [
    "rows = 5\n",
    "for i in range(1, rows+1): \n",
    "    print('*' * i)"
   ]
  },
  {
   "cell_type": "code",
   "execution_count": 37,
   "id": "37c00565-f215-4196-85b8-9b5deda69a80",
   "metadata": {},
   "outputs": [
    {
     "name": "stdout",
     "output_type": "stream",
     "text": [
      "******\n",
      "******\n",
      "******\n",
      "******\n"
     ]
    }
   ],
   "source": [
    "rows = 4  \n",
    "columns = 6  \n",
    "\n",
    "for i in range(rows):  \n",
    "    print('*' * columns)"
   ]
  },
  {
   "cell_type": "code",
   "execution_count": 38,
   "id": "579fda34-c13c-4836-905f-a7512892b854",
   "metadata": {},
   "outputs": [],
   "source": [
    "customer1_info = {\n",
    "    \"f_name\": \"Ali\",\n",
    "    \"l_name\": \"Ahmed\",\n",
    "    \"address\": \"Abc\"\n",
    "}\n",
    "\n",
    "customer2_info = {\n",
    "    \"f_name\": \"Sara\",\n",
    "    \"l_name\": \"Khan\",\n",
    "    \"address\": \"Xyz\"\n",
    "}\n"
   ]
  },
  {
   "cell_type": "code",
   "execution_count": 8,
   "id": "eeabaa89-5e7f-4e7b-86b0-41b7cfa2ebf6",
   "metadata": {},
   "outputs": [],
   "source": [
    "customer = {\"customer1_info\" : {\"f_name\": \"Ali\", \"l_name\": \"Ahmed\", \"address\": \"Abc\"},\n",
    "            \"customer2_info\" : {\"f_name\": \"Sara\",\"l_name\": \"Khan\", \"address\": \"Xyz\"}}"
   ]
  },
  {
   "cell_type": "code",
   "execution_count": 14,
   "id": "1c5ee6df-0eef-4d08-a584-c9a032129b48",
   "metadata": {},
   "outputs": [
    {
     "data": {
      "text/plain": [
       "{'f_name': 'Ali', 'l_name': 'Ahmed', 'address': 'Abc'}"
      ]
     },
     "execution_count": 14,
     "metadata": {},
     "output_type": "execute_result"
    }
   ],
   "source": [
    "customer[\"customer1_info\"]"
   ]
  },
  {
   "cell_type": "code",
   "execution_count": 16,
   "id": "02e29ec4-460a-4062-8063-1bd6e6ef8dfa",
   "metadata": {},
   "outputs": [
    {
     "data": {
      "text/plain": [
       "{'customer1_info': {'f_name': 'Ali', 'l_name': 'Ahmed', 'address': 'Abc'},\n",
       " 'customer2_info': {'f_name': 'Sara', 'l_name': 'Khan', 'address': 'Xyz'}}"
      ]
     },
     "execution_count": 16,
     "metadata": {},
     "output_type": "execute_result"
    }
   ],
   "source": [
    "customer"
   ]
  },
  {
   "cell_type": "code",
   "execution_count": 18,
   "id": "e0324de0-0474-4cf3-ba42-845c4ad77f69",
   "metadata": {},
   "outputs": [],
   "source": [
    "customer[\"customer2_info\"][\"Order_Price\"] = 120"
   ]
  },
  {
   "cell_type": "code",
   "execution_count": 20,
   "id": "1656e6e7-7b6c-4742-8cb0-4d73fd8325be",
   "metadata": {},
   "outputs": [
    {
     "data": {
      "text/plain": [
       "{'f_name': 'Sara', 'l_name': 'Khan', 'address': 'Xyz', 'Order_Price': 120}"
      ]
     },
     "execution_count": 20,
     "metadata": {},
     "output_type": "execute_result"
    }
   ],
   "source": [
    "customer[\"customer2_info\"]"
   ]
  },
  {
   "cell_type": "code",
   "execution_count": 22,
   "id": "49a6c3bf-c388-4a30-80ff-8506c82451ad",
   "metadata": {},
   "outputs": [
    {
     "data": {
      "text/plain": [
       "'Xyz'"
      ]
     },
     "execution_count": 22,
     "metadata": {},
     "output_type": "execute_result"
    }
   ],
   "source": [
    "customer[\"customer2_info\"][\"address\"]"
   ]
  },
  {
   "cell_type": "code",
   "execution_count": 24,
   "id": "4fb9de8e-4081-4176-86a5-1defffe7debc",
   "metadata": {},
   "outputs": [],
   "source": [
    "my_dict = {\"name\":\"ahmed\",\"age\":19,\"weight\":19.5,\"is_present\": True}"
   ]
  },
  {
   "cell_type": "code",
   "execution_count": 28,
   "id": "dbb61b55-e4c1-4d6c-a1c1-fd0eba0e8c0c",
   "metadata": {},
   "outputs": [
    {
     "data": {
      "text/plain": [
       "{'name': 'ahmed', 'age': 19, 'weight': 19.5, 'is_present': True}"
      ]
     },
     "execution_count": 28,
     "metadata": {},
     "output_type": "execute_result"
    }
   ],
   "source": [
    "my_dict"
   ]
  },
  {
   "cell_type": "code",
   "execution_count": 30,
   "id": "4ca854e0-1d94-4eb8-923b-ec5b6ce466b7",
   "metadata": {},
   "outputs": [],
   "source": [
    "my_dict = {True:\"ali\",False:\"ahmed\"}"
   ]
  },
  {
   "cell_type": "code",
   "execution_count": 32,
   "id": "4d90cba0-0fe4-47c3-bcdd-4d9b77bea6f4",
   "metadata": {},
   "outputs": [
    {
     "data": {
      "text/plain": [
       "'ali'"
      ]
     },
     "execution_count": 32,
     "metadata": {},
     "output_type": "execute_result"
    }
   ],
   "source": [
    "my_dict[True]\n",
    "customer1_info"
   ]
  },
  {
   "cell_type": "code",
   "execution_count": 68,
   "id": "84bc923d-c169-497f-935c-84257c56d3e9",
   "metadata": {},
   "outputs": [
    {
     "name": "stdout",
     "output_type": "stream",
     "text": [
      "f_name => Ali\n",
      "l_name => Ahmed\n",
      "address => Abc\n"
     ]
    }
   ],
   "source": [
    "for key,value in customer1_info.items():\n",
    "    print(key,\"=>\",value)"
   ]
  },
  {
   "cell_type": "code",
   "execution_count": 74,
   "id": "d17ec830-ffa2-4034-994c-d34f8610bfc8",
   "metadata": {},
   "outputs": [
    {
     "name": "stdout",
     "output_type": "stream",
     "text": [
      "Ali\n",
      "Ahmed\n",
      "Abc\n"
     ]
    }
   ],
   "source": [
    "for value in customer1_info.values():\n",
    "    print(value)"
   ]
  },
  {
   "cell_type": "code",
   "execution_count": 93,
   "id": "3a8e485d-c30c-4e2e-a098-48dd9f1f4580",
   "metadata": {},
   "outputs": [],
   "source": [
    "customers = {\n",
    "    \"names\": [\"John Doe\", \"Jane Smith\", \"Alice Brown\"],\n",
    "    \"ages\": [32, 28, 25],\n",
    "    \"emails\": [\"john.doe@example.com\", \"jane.smith@example.com\", \"alice.brown@example.com\"],\n",
    "    \"purchases\": [[\"Laptop\", \"Headphones\"], [\"Smartphone\", \"Charger\"], [\"Tablet\", \"Smartwatch\"]],\n",
    "}"
   ]
  },
  {
   "cell_type": "code",
   "execution_count": 103,
   "id": "2f0bc763-c8e0-4675-a1df-634467d2bf35",
   "metadata": {},
   "outputs": [
    {
     "ename": "TypeError",
     "evalue": "list indices must be integers or slices, not list",
     "output_type": "error",
     "traceback": [
      "\u001b[1;31m---------------------------------------------------------------------------\u001b[0m",
      "\u001b[1;31mTypeError\u001b[0m                                 Traceback (most recent call last)",
      "Cell \u001b[1;32mIn[103], line 3\u001b[0m\n\u001b[0;32m      1\u001b[0m first_customer \u001b[38;5;241m=\u001b[39m {}\n\u001b[0;32m      2\u001b[0m \u001b[38;5;28;01mfor\u001b[39;00m key,i \u001b[38;5;129;01min\u001b[39;00m customers\u001b[38;5;241m.\u001b[39mitems():\n\u001b[1;32m----> 3\u001b[0m     first_customer[key] \u001b[38;5;241m=\u001b[39m customers[key][i]\n\u001b[0;32m      5\u001b[0m \u001b[38;5;28mprint\u001b[39m(first_customer)\n",
      "\u001b[1;31mTypeError\u001b[0m: list indices must be integers or slices, not list"
     ]
    }
   ],
   "source": [
    "first_customer = {}\n",
    "for key,i in customers.items():\n",
    "    first_customer[key] = customers[key][i]\n",
    "\n",
    "print(first_customer)"
   ]
  },
  {
   "cell_type": "code",
   "execution_count": 119,
   "id": "0af67272-d276-443c-884e-d3718db25b5e",
   "metadata": {},
   "outputs": [
    {
     "name": "stdout",
     "output_type": "stream",
     "text": [
      "\n",
      "John Doe\n",
      "32\n",
      "john.doe@example.com\n",
      "['Laptop', 'Headphones']\n",
      "\n",
      "Jane Smith\n",
      "28\n",
      "jane.smith@example.com\n",
      "['Smartphone', 'Charger']\n",
      "\n",
      "Alice Brown\n",
      "25\n",
      "alice.brown@example.com\n",
      "['Tablet', 'Smartwatch']\n"
     ]
    }
   ],
   "source": [
    "for index in range(3):\n",
    "    print()\n",
    "    for value in customers.values():\n",
    "        print(value[index])"
   ]
  },
  {
   "cell_type": "code",
   "execution_count": 117,
   "id": "6b5e1ab1-3924-4434-a4e3-3754472226fa",
   "metadata": {},
   "outputs": [
    {
     "name": "stdout",
     "output_type": "stream",
     "text": [
      "\n",
      "John Doe\n",
      "32\n",
      "john.doe@example.com\n",
      "['Laptop', 'Headphones']\n",
      "\n",
      "Jane Smith\n",
      "28\n",
      "jane.smith@example.com\n",
      "['Smartphone', 'Charger']\n",
      "\n",
      "Alice Brown\n",
      "25\n",
      "alice.brown@example.com\n",
      "['Tablet', 'Smartwatch']\n"
     ]
    }
   ],
   "source": [
    "for index in range(len(next(iter(customers.values())))):\n",
    "    print()\n",
    "    for value in customers.values():\n",
    "        print(value[index])"
   ]
  },
  {
   "cell_type": "code",
   "execution_count": 123,
   "id": "33003088-2ecc-48fe-93c1-0ac6513559ca",
   "metadata": {},
   "outputs": [
    {
     "data": {
      "text/plain": [
       "[{'name': 'Alice', 'age': 30, 'location': 'New York'},\n",
       " {'name': 'Bob', 'age': 25, 'location': 'London'},\n",
       " {'name': 'Charlie', 'age': 35, 'location': 'Paris'}]"
      ]
     },
     "execution_count": 123,
     "metadata": {},
     "output_type": "execute_result"
    }
   ],
   "source": [
    "customers = [\n",
    "    {\"name\": \"Alice\", \"age\": 30, \"location\": \"New York\"},\n",
    "    {\"name\": \"Bob\", \"age\": 25, \"location\": \"London\"},\n",
    "    {\"name\": \"Charlie\", \"age\": 35, \"location\": \"Paris\"}\n",
    "]\n",
    "customers"
   ]
  },
  {
   "cell_type": "code",
   "execution_count": 129,
   "id": "80051bd9-25af-4379-adeb-c090dc6cea55",
   "metadata": {},
   "outputs": [],
   "source": [
    "customers.append({\"name\": \"ali\", \"age\": 35, \"location\": \"pakistan\"})"
   ]
  },
  {
   "cell_type": "code",
   "execution_count": 131,
   "id": "6d68a6db-c945-4aac-8b86-fa9c97221044",
   "metadata": {},
   "outputs": [
    {
     "data": {
      "text/plain": [
       "[{'name': 'Alice', 'age': 30, 'location': 'New York'},\n",
       " {'name': 'Bob', 'age': 25, 'location': 'London'},\n",
       " {'name': 'Charlie', 'age': 35, 'location': 'Paris'},\n",
       " {'name': 'ali', 'age': 35, 'location': 'pakistan'}]"
      ]
     },
     "execution_count": 131,
     "metadata": {},
     "output_type": "execute_result"
    }
   ],
   "source": [
    "customers"
   ]
  },
  {
   "cell_type": "code",
   "execution_count": 1,
   "id": "5b430ef3-8fe3-4628-a305-d403e7926bb2",
   "metadata": {},
   "outputs": [],
   "source": [
    "def greet_name():\n",
    "    print(\"Welcome to Data Engineering Course\")"
   ]
  },
  {
   "cell_type": "code",
   "execution_count": 5,
   "id": "55ec2fdb-9464-4e06-a59c-55ca341bba1a",
   "metadata": {},
   "outputs": [
    {
     "name": "stdout",
     "output_type": "stream",
     "text": [
      "Welcome to Data Engineering Course\n"
     ]
    }
   ],
   "source": [
    "greet_name()"
   ]
  },
  {
   "cell_type": "code",
   "execution_count": 7,
   "id": "8c40e598-3eba-4c87-b56b-c5b604ba6208",
   "metadata": {},
   "outputs": [],
   "source": [
    "def addition(num1,num2):\n",
    "    sum = num1+num2\n",
    "    print(sum)"
   ]
  },
  {
   "cell_type": "code",
   "execution_count": 9,
   "id": "f9429d6d-8470-4f83-92bc-4a8533a1214a",
   "metadata": {},
   "outputs": [
    {
     "name": "stdout",
     "output_type": "stream",
     "text": [
      "6\n"
     ]
    }
   ],
   "source": [
    "addition(2,4)"
   ]
  },
  {
   "cell_type": "code",
   "execution_count": 11,
   "id": "9a183751-91ce-44c6-ba31-e8db383ec144",
   "metadata": {},
   "outputs": [],
   "source": [
    "def employee_salary(salary,bonus = 0.15):\n",
    "    new_salary = salary + (salary*bonus)\n",
    "    print(new_salary)"
   ]
  },
  {
   "cell_type": "code",
   "execution_count": 17,
   "id": "889c34e1-e7cd-47c8-8821-c0b93f64d3f8",
   "metadata": {},
   "outputs": [
    {
     "name": "stdout",
     "output_type": "stream",
     "text": [
      "5750.0\n"
     ]
    }
   ],
   "source": [
    "employee_salary(5000)"
   ]
  },
  {
   "cell_type": "code",
   "execution_count": 36,
   "id": "488ca5f2-1f6c-40bb-91c2-857befa34309",
   "metadata": {},
   "outputs": [],
   "source": [
    "def count_string():\n",
    "    string = input(\"Enter string : \")\n",
    "    print(string)"
   ]
  },
  {
   "cell_type": "code",
   "execution_count": 38,
   "id": "aa1ed69d-293c-4f10-bc2f-ad1cf8e1f2ee",
   "metadata": {},
   "outputs": [
    {
     "name": "stdin",
     "output_type": "stream",
     "text": [
      "Enter string :  Ali\n"
     ]
    },
    {
     "name": "stdout",
     "output_type": "stream",
     "text": [
      "Ali\n"
     ]
    }
   ],
   "source": [
    "count_string()"
   ]
  },
  {
   "cell_type": "code",
   "execution_count": 42,
   "id": "8e389425-29a6-4528-8654-ef2dd418d778",
   "metadata": {},
   "outputs": [],
   "source": [
    "def display_result(winner,score,*args):\n",
    "    print(\"winner\" + winner)\n",
    "        "
   ]
  },
  {
   "cell_type": "code",
   "execution_count": 56,
   "id": "85dc3ad8-0668-41bb-8942-b9bbd9ca6bf6",
   "metadata": {},
   "outputs": [],
   "source": [
    "def Multiply_list(sample_list):\n",
    "    value = 1\n",
    "    for i in sample_list:\n",
    "        value = value*i\n",
    "    print(value)  "
   ]
  },
  {
   "cell_type": "code",
   "execution_count": 58,
   "id": "b8e2196a-ca48-4277-ab66-aca889dc28df",
   "metadata": {},
   "outputs": [
    {
     "name": "stdout",
     "output_type": "stream",
     "text": [
      "-336\n"
     ]
    }
   ],
   "source": [
    "Multiply_list([8,2,3,-1,7])"
   ]
  },
  {
   "cell_type": "code",
   "execution_count": 50,
   "id": "495d112f-8a9a-4e59-a705-9a7b123ff0bb",
   "metadata": {},
   "outputs": [
    {
     "data": {
      "text/plain": [
       "'ilA'"
      ]
     },
     "execution_count": 50,
     "metadata": {},
     "output_type": "execute_result"
    }
   ],
   "source": [
    "def my_str(str):\n",
    "    return str[::-1]\n",
    "my_str(\"Ali\")    "
   ]
  },
  {
   "cell_type": "code",
   "execution_count": 4,
   "id": "31b1ffb3-08a9-4b0e-a643-5f26f199c86c",
   "metadata": {},
   "outputs": [
    {
     "name": "stdin",
     "output_type": "stream",
     "text": [
      "Enter a city name :  multan\n"
     ]
    },
    {
     "name": "stdout",
     "output_type": "stream",
     "text": [
      "multan is not clean city\n"
     ]
    },
    {
     "name": "stdin",
     "output_type": "stream",
     "text": [
      "Enter a city name :  Islamabad\n"
     ]
    },
    {
     "name": "stdout",
     "output_type": "stream",
     "text": [
      "Islamabad is a clean city\n"
     ]
    }
   ],
   "source": [
    "clean_cities = ['karachi','lahore','Islamabad']\n",
    "\n",
    "temp = True\n",
    "while temp:\n",
    "    city = input(\"Enter a city name : \")\n",
    "    if city in clean_cities:\n",
    "        print(f'{city} is a clean city')\n",
    "        temp = False\n",
    "    else:\n",
    "        print(f'{city} is not clean city')"
   ]
  },
  {
   "cell_type": "code",
   "execution_count": 6,
   "id": "13586b70-d76b-4ca3-af14-8d4d3f5b1d2c",
   "metadata": {},
   "outputs": [
    {
     "name": "stdin",
     "output_type": "stream",
     "text": [
      "Enter the No :  1\n",
      "Enter the No :  2\n",
      "Enter the No :  3\n",
      "Enter the No :  0\n"
     ]
    },
    {
     "name": "stdout",
     "output_type": "stream",
     "text": [
      "6\n"
     ]
    }
   ],
   "source": [
    "flag = True\n",
    "sum = 0\n",
    "while(flag):\n",
    "    num = int(input(\"Enter the No : \"))\n",
    "    if(num != 0):\n",
    "        sum +=num\n",
    "    else:\n",
    "        flag = False\n",
    "\n",
    "print(sum)   "
   ]
  },
  {
   "cell_type": "code",
   "execution_count": 8,
   "id": "f8b46c4b-3197-4d79-b05c-e3a8c92b6745",
   "metadata": {},
   "outputs": [
    {
     "name": "stdin",
     "output_type": "stream",
     "text": [
      "Enter a word ali\n",
      "Enter a word azam\n",
      "Enter a word civic\n"
     ]
    },
    {
     "name": "stdout",
     "output_type": "stream",
     "text": [
      "civic is a palindrom\n"
     ]
    }
   ],
   "source": [
    "while True:\n",
    "    input_word = input(\"Enter a word\")\n",
    "    if input_word == input_word[::-1]:\n",
    "        print(f'{input_word} is a palindrom')\n",
    "        break\n",
    "    else:\n",
    "        continue"
   ]
  },
  {
   "cell_type": "code",
   "execution_count": 60,
   "id": "991546c7-dcc8-4a17-b364-71ca6f8672d3",
   "metadata": {},
   "outputs": [],
   "source": [
    "with open(r\"C:\\Users\\Administrator\\Desktop\\SMIT-Data-Engineering\\Module 1\\file_handle.txt\",'a') as files:\n",
    "    files.write('writing into file with append as input')"
   ]
  },
  {
   "cell_type": "code",
   "execution_count": 70,
   "id": "6fec8e37-3ea8-4802-b6ee-4520168a283a",
   "metadata": {},
   "outputs": [],
   "source": [
    "with open(r\"C:\\Users\\Administrator\\Desktop\\SMIT-Data-Engineering\\Module 1\\file_handle.txt\", 'a') as files:\n",
    "    print('writing into file with a as input', file=files)\n"
   ]
  },
  {
   "cell_type": "code",
   "execution_count": 72,
   "id": "10f68d18-cf7e-4f6a-9f42-ffcf55cb7af2",
   "metadata": {},
   "outputs": [],
   "source": [
    "with open(r\"C:\\Users\\Administrator\\Desktop\\SMIT-Data-Engineering\\Module 1\\file_handle.txt\", 'r') as files:\n",
    "    a = files.read()"
   ]
  },
  {
   "cell_type": "code",
   "execution_count": 74,
   "id": "5eeefe4e-a7e4-482e-b844-570de00ce190",
   "metadata": {},
   "outputs": [
    {
     "name": "stdout",
     "output_type": "stream",
     "text": [
      "writing into file with append as inputwriting into file with a as input\n",
      "writing into file with a as input\n",
      "writing into file with a as input\n",
      "\n"
     ]
    }
   ],
   "source": [
    "print(a)"
   ]
  },
  {
   "cell_type": "code",
   "execution_count": 1,
   "id": "57ecdb90-a9c6-4c1c-8499-ef5c7d5a0d45",
   "metadata": {},
   "outputs": [],
   "source": [
    "def factorial(n):\n",
    "    if n < 0:\n",
    "        return \"Factorial is not defined for negative numbers.\"\n",
    "    result = 1\n",
    "    while n > 1:\n",
    "        result *= n\n",
    "        n -= 1\n",
    "    return result"
   ]
  },
  {
   "cell_type": "code",
   "execution_count": 3,
   "id": "1d5a1101-906f-4b9a-9d5c-41dae24320a6",
   "metadata": {},
   "outputs": [
    {
     "data": {
      "text/plain": [
       "120"
      ]
     },
     "execution_count": 3,
     "metadata": {},
     "output_type": "execute_result"
    }
   ],
   "source": [
    "factorial(5)"
   ]
  },
  {
   "cell_type": "code",
   "execution_count": null,
   "id": "37a676ea-ac65-4aa5-b42b-c5c5f01e8cfe",
   "metadata": {},
   "outputs": [],
   "source": []
  }
 ],
 "metadata": {
  "kernelspec": {
   "display_name": "Python 3 (ipykernel)",
   "language": "python",
   "name": "python3"
  },
  "language_info": {
   "codemirror_mode": {
    "name": "ipython",
    "version": 3
   },
   "file_extension": ".py",
   "mimetype": "text/x-python",
   "name": "python",
   "nbconvert_exporter": "python",
   "pygments_lexer": "ipython3",
   "version": "3.11.7"
  }
 },
 "nbformat": 4,
 "nbformat_minor": 5
}
